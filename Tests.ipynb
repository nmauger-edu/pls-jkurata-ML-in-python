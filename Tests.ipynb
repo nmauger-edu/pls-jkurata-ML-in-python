{
 "cells": [
  {
   "cell_type": "code",
   "execution_count": null,
   "metadata": {
    "collapsed": false
   },
   "outputs": [],
   "source": [
    "# Python version\n",
    "import sys\n",
    "print('Python: {}'.format(sys.version))\n",
    "# scipy\n",
    "import scipy\n",
    "print('scipy: {}'.format(scipy.__version__))\n",
    "# numpy\n",
    "import numpy\n",
    "print('numpy: {}'.format(numpy.__version__))\n",
    "# matplotlib\n",
    "import matplotlib\n",
    "print('matplotlib: {}'.format(matplotlib.__version__))\n",
    "# pandas\n",
    "import pandas\n",
    "print('pandas: {}'.format(pandas.__version__))\n",
    "# scikit-learn\n",
    "import sklearn\n",
    "print('sklearn: {}'.format(sklearn.__version__))\n"
   ]
  },
  {
   "cell_type": "code",
   "execution_count": null,
   "metadata": {
    "collapsed": false
   },
   "outputs": [],
   "source": [
    "# dataframe\n",
    "import numpy\n",
    "import pandas\n",
    "myarray = numpy.array([[1, 2, 3], [4, 5, 6]])\n",
    "rownames = ['a', 'b']\n",
    "colnames = ['one', 'two', 'three']\n",
    "mydataframe = pandas.DataFrame(myarray, index=rownames, columns=colnames)\n",
    "print(mydataframe)"
   ]
  },
  {
   "cell_type": "code",
   "execution_count": null,
   "metadata": {
    "collapsed": false
   },
   "outputs": [],
   "source": [
    "# Load CSV using Pandas from URL\n",
    "import pandas\n",
    "url = \"https://goo.gl/vhm1eU\"\n",
    "names = ['preg', 'plas', 'pres', 'skin', 'test', 'mass', 'pedi', 'age', 'class']\n",
    "data = pandas.read_csv(url, names=names)\n",
    "print(data.shape)"
   ]
  },
  {
   "cell_type": "markdown",
   "metadata": {},
   "source": [
    "- Understand your data using the __head()__ function to look at the first few rows.\n",
    "- Review the dimensions of your data with the __shape__ property.\n",
    "- Look at the data types for each attribute with the __dtypes__ property.\n",
    "- Review the distribution of your data with the __describe()__ function.\n",
    "- Calculate pairwise correlation between your variables using the __corr()__ function.\n"
   ]
  },
  {
   "cell_type": "code",
   "execution_count": 2,
   "metadata": {
    "collapsed": false
   },
   "outputs": [
    {
     "name": "stdout",
     "output_type": "stream",
     "text": [
      "             preg        plas        pres        skin        test        mass  \\\n",
      "count  768.000000  768.000000  768.000000  768.000000  768.000000  768.000000   \n",
      "mean     3.845052  120.894531   69.105469   20.536458   79.799479   31.992578   \n",
      "std      3.369578   31.972618   19.355807   15.952218  115.244002    7.884160   \n",
      "min      0.000000    0.000000    0.000000    0.000000    0.000000    0.000000   \n",
      "25%      1.000000   99.000000   62.000000    0.000000    0.000000   27.300000   \n",
      "50%      3.000000  117.000000   72.000000   23.000000   30.500000   32.000000   \n",
      "75%      6.000000  140.250000   80.000000   32.000000  127.250000   36.600000   \n",
      "max     17.000000  199.000000  122.000000   99.000000  846.000000   67.100000   \n",
      "\n",
      "             pedi         age       class  \n",
      "count  768.000000  768.000000  768.000000  \n",
      "mean     0.471876   33.240885    0.348958  \n",
      "std      0.331329   11.760232    0.476951  \n",
      "min      0.078000   21.000000    0.000000  \n",
      "25%      0.243750   24.000000    0.000000  \n",
      "50%      0.372500   29.000000    0.000000  \n",
      "75%      0.626250   41.000000    1.000000  \n",
      "max      2.420000   81.000000    1.000000  \n",
      "           preg      plas      pres      skin      test      mass      pedi  \\\n",
      "preg   1.000000  0.129459  0.141282 -0.081672 -0.073535  0.017683 -0.033523   \n",
      "plas   0.129459  1.000000  0.152590  0.057328  0.331357  0.221071  0.137337   \n",
      "pres   0.141282  0.152590  1.000000  0.207371  0.088933  0.281805  0.041265   \n",
      "skin  -0.081672  0.057328  0.207371  1.000000  0.436783  0.392573  0.183928   \n",
      "test  -0.073535  0.331357  0.088933  0.436783  1.000000  0.197859  0.185071   \n",
      "mass   0.017683  0.221071  0.281805  0.392573  0.197859  1.000000  0.140647   \n",
      "pedi  -0.033523  0.137337  0.041265  0.183928  0.185071  0.140647  1.000000   \n",
      "age    0.544341  0.263514  0.239528 -0.113970 -0.042163  0.036242  0.033561   \n",
      "class  0.221898  0.466581  0.065068  0.074752  0.130548  0.292695  0.173844   \n",
      "\n",
      "            age     class  \n",
      "preg   0.544341  0.221898  \n",
      "plas   0.263514  0.466581  \n",
      "pres   0.239528  0.065068  \n",
      "skin  -0.113970  0.074752  \n",
      "test  -0.042163  0.130548  \n",
      "mass   0.036242  0.292695  \n",
      "pedi   0.033561  0.173844  \n",
      "age    1.000000  0.238356  \n",
      "class  0.238356  1.000000  \n"
     ]
    }
   ],
   "source": [
    "# Statistical Summary\n",
    "import pandas\n",
    "url = \"https://goo.gl/vhm1eU\"\n",
    "names = ['preg', 'plas', 'pres', 'skin', 'test', 'mass', 'pedi', 'age', 'class']\n",
    "data = pandas.read_csv(url, names=names)\n",
    "description = data.describe()\n",
    "print(description)\n",
    "correlation = data.corr()\n",
    "print(correlation)"
   ]
  },
  {
   "cell_type": "markdown",
   "metadata": {},
   "source": [
    "Today, your lesson is to learn how to use plotting in Python to understand attributes alone and their interactions. Again, I recommend using the helper functions provided on the Pandas DataFrame.\n",
    "\n",
    "- Use the hist() function to create a histogram of each attribute.\n",
    "- Use the plot(kind=’box’) function to create box-and-whisker plots of each attribute.\n",
    "- Use the pandas.scatter_matrix() function to create pairwise scatterplots of all attributes."
   ]
  },
  {
   "cell_type": "code",
   "execution_count": 37,
   "metadata": {
    "collapsed": false
   },
   "outputs": [
    {
     "data": {
      "image/png": "[encoded data removed]",
      "text/plain": [
       "<matplotlib.figure.Figure at 0x1bacc10ecc0>"
      ]
     },
     "metadata": {},
     "output_type": "display_data"
    }
   ],
   "source": [
    "%matplotlib inline  \n",
    "# Scatter Plot Matrix\n",
    "import matplotlib.pyplot as plt\n",
    "\n",
    "# import the scatter_matrix functionality\n",
    "from pandas.tools.plotting import scatter_matrix\n",
    "\n",
    "\n",
    "import pandas\n",
    "from pandas.tools.plotting import scatter_matrix\n",
    "\n",
    "url = \"https://goo.gl/vhm1eU\"\n",
    "names = ['preg', 'plas', 'pres', 'skin', 'test', 'mass', 'pedi', 'age', 'class']\n",
    "data = pandas.read_csv(url, names=names)\n",
    "\n",
    "fig = plt.figure()\n",
    "#grouped = data.groupby(0)\n",
    "#grouped.boxplot(column=1)\n",
    "\n",
    "#scatter_matrix(data, figsize=(20,20))\n",
    "for idx,n in enumerate(names):\n",
    "    a = fig.add_subplot(5,4, idx+1)\n",
    "    plt.title(n)\n",
    "    plt.hist(data[n])\n",
    "    #plt.figure(idx+1)\n",
    "    #plt.title(n)\n",
    "    #plt.hist(data[n])\n",
    "\n",
    "\n",
    "plt.show()\n"
   ]
  },
  {
   "cell_type": "code",
   "execution_count": null,
   "metadata": {
    "collapsed": true
   },
   "outputs": [],
   "source": [
    "# Standardize data (0 mean, 1 stdev)\n",
    "from sklearn.preprocessing import StandardScaler\n",
    "import pandas\n",
    "\n",
    "import numpy\n",
    "url = \"https://goo.gl/vhm1eU\"\n",
    "names = ['preg', 'plas', 'pres', 'skin', 'test', 'mass', 'pedi', 'age', 'class']\n",
    "dataframe = pandas.read_csv(url, names=names)\n",
    "array = dataframe.values\n",
    "# separate array into input and output components\n",
    "X = array[:,0:8]\n",
    "Y = array[:,8]\n",
    "scaler = StandardScaler().fit(X)\n",
    "rescaledX = scaler.transform(X)\n",
    "# summarize transformed data\n",
    "numpy.set_printoptions(precision=3)\n",
    "print(rescaledX[0:5,:])"
   ]
  },
  {
   "cell_type": "code",
   "execution_count": null,
   "metadata": {
    "collapsed": true
   },
   "outputs": [],
   "source": []
  }
 ],
 "metadata": {
  "kernelspec": {
   "display_name": "Python 3",
   "language": "python",
   "name": "python3"
  },
  "language_info": {
   "codemirror_mode": {
    "name": "ipython",
    "version": 3
   },
   "file_extension": ".py",
   "mimetype": "text/x-python",
   "name": "python",
   "nbconvert_exporter": "python",
   "pygments_lexer": "ipython3",
   "version": "3.5.1"
  }
 },
 "nbformat": 4,
 "nbformat_minor": 0
}
