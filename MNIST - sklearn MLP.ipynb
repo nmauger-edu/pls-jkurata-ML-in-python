{
 "cells": [
  {
   "cell_type": "markdown",
   "metadata": {},
   "source": [
    "## the point of this project is to classify the 10 digits (0,1...9) from the MNIST dataset.\n",
    "subsmapled images will be used (scaled imaged)\n",
    "\n",
    "Using linear regression\n",
    "\n",
    "https://towardsdatascience.com/logistic-regression-using-python-sklearn-numpy-mnist-handwriting-recognition-matplotlib-a6b31e2b166a\n",
    "  \n",
    "\n",
    "    "
   ]
  },
  {
   "cell_type": "markdown",
   "metadata": {},
   "source": [
    "Get the images\n"
   ]
  },
  {
   "cell_type": "code",
   "execution_count": null,
   "metadata": {
    "collapsed": true
   },
   "outputs": [],
   "source": [
    "from mnist import MNIST\n",
    "import matplotlib.pyplot as plt\n",
    "import numpy as np\n",
    "import scipy as sp\n",
    "import scipy.misc\n",
    "\n",
    "%matplotlib inline\n",
    "\n",
    "mndata = MNIST('./data')\n",
    "images, labels = mndata.load_training()"
   ]
  },
  {
   "cell_type": "code",
   "execution_count": null,
   "metadata": {
    "collapsed": false
   },
   "outputs": [],
   "source": [
    "datasetsize = 1200\n",
    "images = images[0:datasetsize]\n",
    "labels = labels[0:datasetsize]\n",
    "print(len(labels))\n",
    "print(len(images))\n",
    "\n",
    "digitsize = 28\n",
    "\n",
    "# convert into an array of array of pixel.\n",
    "images = np.array(images).reshape(len(images),28,28)\n",
    "\n",
    "\n",
    "# Scale image\n",
    "img_scaled = []\n",
    "for n in range(len(images)):\n",
    "    displayimg = sp.misc.imresize(images[n], (digitsize,digitsize)) # values are ranging from 0 to 255\n",
    "    displayimg = displayimg.reshape(digitsize*digitsize) # reshape the 2x2 array into a simple pixel vector\n",
    "    img_scaled.append(displayimg)\n",
    "\n",
    "# Plot the training dataset\n",
    "plt.gray()\n",
    "fig = plt.figure(figsize=(25,25))\n",
    "for n in range(5):\n",
    "    a = plt.subplot(10,10,(n*2)+1)\n",
    "    plt.title(labels[n])\n",
    "\n",
    "    plt.gca().get_xaxis().set_visible(False)\n",
    "    plt.gca().get_yaxis().set_visible(False)\n",
    "    plt.imshow(images[n])\n",
    "    #print(displayimg)\n",
    "    a = plt.subplot(10,10,(n*2)+2)\n",
    "    plt.gca().get_xaxis().set_visible(False)\n",
    "    plt.gca().get_yaxis().set_visible(False)\n",
    "    plt.imshow(img_scaled[n].reshape(digitsize,digitsize))"
   ]
  },
  {
   "cell_type": "code",
   "execution_count": null,
   "metadata": {
    "collapsed": false
   },
   "outputs": [],
   "source": [
    "from sklearn.model_selection import train_test_split\n",
    "from sklearn.preprocessing import StandardScaler\n",
    "from sklearn.metrics import accuracy_score\n",
    "from sklearn.neural_network import MLPClassifier\n",
    "\n",
    "# set values in the [0;1] interval instead of [0;255]\n",
    "# img_scaled = np.array(img_scaled)/255\n",
    "labels = np.array(labels).reshape(len(labels), 1)\n",
    "\n",
    "#Process labels.\n",
    "# create a vector out of a digit. For instance 3 = [0,0,0,1,0...]\n",
    "vect_labels = []\n",
    "for n in range(len(labels)):\n",
    "    vect = np.zeros(10)\n",
    "    vect[labels[n]] = 1\n",
    "    vect_labels.append(vect)\n",
    "\n",
    "vect_labels = np.array(vect_labels).reshape(len(labels), 10)\n",
    "\n",
    "\n",
    "# create weights vector\n",
    "vect_w = np.ones((10,digitsize**2+1))\n",
    "# alternative is : \n",
    "# vect_w = np.random.rand(10,digitsize**2+1)\n",
    "    \n",
    "#digits = np.insert(img_scaled, 0, 1, axis=1) # insert 1s in 0th columns of each row (bias)\n",
    "X = img_scaled\n",
    "\n",
    "y = labels.reshape(len(labels))\n",
    "print(y)\n",
    "# For fun, split train into train and test\n",
    "test_size = 0.01\n",
    "random_state = 42\n",
    "\n",
    "X_train, X_test, y_train, y_test = train_test_split(X,\n",
    "                                                   y,\n",
    "                                                   test_size = test_size,\n",
    "                                                   random_state = random_state)\n",
    "\n",
    "sc = StandardScaler()\n",
    "# fit the scaler only to the training set\n",
    "sc.fit(X_train)\n",
    "# apply the scale on both the training and testing set\n",
    "X_train_std = sc.transform(X_train)\n",
    "X_test_std = sc.transform(X_test)\n",
    "\n",
    "print(\"X_train shape: \", X_train_std.shape)\n",
    "print(\"y train: \", y_train.shape)\n",
    "\n",
    "# 3 layers, (48,32,16) => 94.17% on 12000 training values\n",
    "# 3 layers, (384,256,128) => 97.5% on 12000 training values\n",
    "# worse :   (3072, 2048, 1024): 95.83%\n",
    "hidden_layer_sizes = (2,1)\n",
    "for i in range(1,11):\n",
    "    hidden_layer_sizes = tuple(x*2 for x in hidden_layer_sizes)\n",
    "    print('fitting for {0}...'.format(hidden_layer_sizes))\n",
    "    MLP = MLPClassifier(solver='sgd', alpha=1e-6,\n",
    "                    hidden_layer_sizes=hidden_layer_sizes, random_state=1,\n",
    "                   max_iter=400)\n",
    "    MLP.fit(X_train_std, y_train)\n",
    "    y_pred = MLP.predict(X_test_std)\n",
    "\n",
    "    # Measure performance via accuracy score\n",
    "    print(\"Accuracy {0}: {1:.2f}%\".format(hidden_layer_sizes, accuracy_score(y_test,\n",
    "                                                y_pred)*100))\n",
    "\n",
    "\n"
   ]
  },
  {
   "cell_type": "markdown",
   "metadata": {
    "collapsed": true
   },
   "source": [
    "### now use the weight found at the previous step to guess some digits...\n"
   ]
  },
  {
   "cell_type": "code",
   "execution_count": null,
   "metadata": {
    "collapsed": true
   },
   "outputs": [],
   "source": [
    "mndata = MNIST('./data')\n",
    "images_test, labels_test = mndata.load_testing()\n",
    "print(\"Test set size is : {}\".format(len(images_test)))"
   ]
  },
  {
   "cell_type": "code",
   "execution_count": null,
   "metadata": {
    "collapsed": true
   },
   "outputs": [],
   "source": [
    "testsetsize = 5000\n",
    "images_test = images_test[0:testsetsize]\n",
    "labels_test = labels_test[0:testsetsize]\n",
    "\n",
    "print(len(labels_test))\n",
    "print(len(images_test))\n",
    "#print(images[0])\n",
    "# pre-init\n",
    "img_test = np.array(images_test).reshape(len(images_test),28,28)\n",
    "\n",
    "img_scaled_test = []\n",
    "for n in range(len(images_test)):\n",
    "    displayimg_test = sp.misc.imresize(img_test[n], (digitsize,digitsize)) # values are ranging from 0 to 255\n",
    "    displayimg_test = displayimg_test.reshape(digitsize*digitsize)\n",
    "\n",
    "    img_scaled_test.append(displayimg_test)\n",
    "\n",
    "#img_scaled_test_norm = np.array(img_scaled_test)/255\n",
    "\n",
    "\n",
    "\n",
    "X_test = img_scaled_test\n",
    "\n",
    "y_test = np.array(labels_test).reshape(len(labels_test))\n",
    "#print(y_test)\n",
    "\n",
    "X_test_std = sc.transform(X_test)\n",
    "\n",
    "print(\"X_train shape: \", X_test_std.shape)\n",
    "print(\"y train: \", y_test.shape)\n",
    "\n",
    "# Make prediction\n",
    "y_pred = MLP.predict(X_test_std)\n",
    "\n",
    "\n",
    "# Measure performance via accuracy score\n",
    "print(\"Accuracy : {0:.2f}%\".format(accuracy_score(y_test,\n",
    "                                                y_pred)*100))\n",
    "\n",
    "\n",
    "\n",
    "plt.gray()\n",
    "fig = plt.figure(figsize=(25,25))\n",
    "\n",
    "for n in range(100):\n",
    "    plt.gca().get_xaxis().set_visible(False)\n",
    "    plt.gca().get_yaxis().set_visible(False)\n",
    "    a = plt.subplot(10,10,n+1)\n",
    "    plt.imshow(img_scaled_test[n].reshape(digitsize,digitsize))\n",
    "\n",
    "    if y_pred[n] == labels_test[n]:\n",
    "        plt.title('THIS IS a...' + str(y_pred[n]))\n",
    "        plt.set_cmap('hot')\n",
    "    else:\n",
    "        plt.title('hooops found a... ' + str(y_pred[n]))\n",
    "        plt.set_cmap('Blues')\n",
    "\n",
    "plt.tight_layout()\n",
    "\n",
    "#print(img_scaled)\n",
    "labels_test = np.array(labels_test).reshape(len(labels_test), 1)\n"
   ]
  },
  {
   "cell_type": "code",
   "execution_count": null,
   "metadata": {
    "collapsed": true
   },
   "outputs": [],
   "source": []
  }
 ],
 "metadata": {
  "kernelspec": {
   "display_name": "Python 3",
   "language": "python",
   "name": "python3"
  },
  "language_info": {
   "codemirror_mode": {
    "name": "ipython",
    "version": 3
   },
   "file_extension": ".py",
   "mimetype": "text/x-python",
   "name": "python",
   "nbconvert_exporter": "python",
   "pygments_lexer": "ipython3",
   "version": "3.5.1"
  }
 },
 "nbformat": 4,
 "nbformat_minor": 1
}
